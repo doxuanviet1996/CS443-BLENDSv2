{
 "cells": [
  {
   "cell_type": "markdown",
   "metadata": {},
   "source": [
    "## [Lab 4 Part II] Blockchain Basics\n",
    "\n",
    "In Part I, you have implemented basic cryptographic functions. In Part II, you will manage transactions and blocks.\n",
    "\n",
    "Part II consists of four parts.\n",
    "\n",
    "* Model: A blockchain has blocks of transactions.  You will implement functions to create and manage them.\n",
    "* DBManager: BLENDS uses a RDBMS called SQLite.  You will implement functions to store, index, and search blockchain data.\n",
    "* Verifier/Validator: You will implement functions to verify if blocks and transactions are formatted correctly.\n",
    "* Miner: You will implement functions to mine a new block.\n",
    "\n",
    "We have mined a few blocks and put them in \"scenario.db\".  The first block in the block chain is identified with a parent block hash value of 0xdecaf.\n"
   ]
  },
  {
   "cell_type": "code",
   "execution_count": null,
   "metadata": {},
   "outputs": [],
   "source": [
    "from blends.node import crypto, util\n",
    "\n",
    "sender = crypto.load_secret_key('key0.json')\n",
    "receiver = crypto.load_secret_key('key1.json')"
   ]
  },
  {
   "cell_type": "markdown",
   "metadata": {},
   "source": [
    "## Section 1: Model\n",
    "\n",
    "All blocks and transactions are objects. You will learn how to manage transactions and blocks one by one in this section.\n",
    "\n",
    "### Tutorial 1 : Create a new transaction\n",
    "\n",
    "BLENDS offers the following API to create a new transaction.\n",
    "\n",
    "```python\n",
    "def new_transaction(version: str, sender: str, receiver: str, timestamp: str, amount: int):\n",
    "```\n"
   ]
  },
  {
   "cell_type": "code",
   "execution_count": null,
   "metadata": {},
   "outputs": [],
   "source": [
    "from blends.node.model import Transaction\n",
    "transaction = Transaction.new_transaction(\"test\", hex(sender.n), hex(receiver.n), util.now(), 10)"
   ]
  },
  {
   "cell_type": "markdown",
   "metadata": {},
   "source": [
    "This transaction has not been digital signed and must be signed with the sender's private key before use."
   ]
  },
  {
   "cell_type": "markdown",
   "metadata": {},
   "source": [
    "### Tutorial 2 : Transaction Hash\n",
    "\n",
    "The transaction hash is a unique identifier for each transaction.  You compute the transaction hash by applying a hash function to the transaction payload.  Below is the code for computing the transaction hash.\n",
    "\n",
    "**You must use `get_payload` to fetch the transaction payload.**"
   ]
  },
  {
   "cell_type": "code",
   "execution_count": null,
   "metadata": {},
   "outputs": [],
   "source": [
    "payload = transaction.get_payload()\n",
    "hash_ = crypto.get_hash(payload)\n",
    "transaction.set_hash(hash_)\n",
    "\n",
    "print(transaction)"
   ]
  },
  {
   "cell_type": "markdown",
   "metadata": {},
   "source": [
    "### Exercise 1 : Sign a transaction\n",
    "\n",
    "You have learned how to compute the hash of a transaction.  Now you will sign the `transaction`.\n",
    "\n",
    "```\n",
    "def set_sign(self, sign: str):\n",
    "```\n"
   ]
  },
  {
   "cell_type": "code",
   "execution_count": null,
   "metadata": {},
   "outputs": [],
   "source": [
    "sign = None #<- should be implemented\n",
    "\n",
    "transaction.set_sign(sign)"
   ]
  },
  {
   "cell_type": "markdown",
   "metadata": {},
   "source": [
    "### Tutorial 3 : Create a new block\n",
    "\n",
    "You have created a transaction, computed its hash, and signed it.  Now let's create a block.  In BLENDS has defined a  `Block` class. Use the following API to create a new block.\n",
    "\n",
    "```python\n",
    "def new_block(version: str, parent: str, timestamp: str, miner: str, difficulty: int):\n",
    "```\n"
   ]
  },
  {
   "cell_type": "code",
   "execution_count": null,
   "metadata": {},
   "outputs": [],
   "source": [
    "from blends.node.model import Block\n",
    "block = Block.new_block(\"test\", None, util.now(), hex(sender.n), 0)"
   ]
  },
  {
   "cell_type": "markdown",
   "metadata": {},
   "source": [
    "### Tutorial 4: Nonce\n",
    "\n",
    "Every block will have a nonce. You change the value of this nonce later in mining.  Use the following API to change the value of the nonce.\n",
    "\n",
    "```python\n",
    "def set_nonce(self, nonce: int)\n",
    "```\n"
   ]
  },
  {
   "cell_type": "code",
   "execution_count": null,
   "metadata": {},
   "outputs": [],
   "source": [
    "block.set_nonce(1)"
   ]
  },
  {
   "cell_type": "markdown",
   "metadata": {},
   "source": [
    "### Tutorial 5: Add a transaction to a block\n",
    "\n",
    "A single block may contain multiple transactions.  In BLENDS, you can add transactions to `blocks.txt`.\n"
   ]
  },
  {
   "cell_type": "code",
   "execution_count": null,
   "metadata": {},
   "outputs": [],
   "source": [
    "block.txs.append(transaction)"
   ]
  },
  {
   "cell_type": "markdown",
   "metadata": {},
   "source": [
    "### Exercise 2 : Block Hash\n",
    "\n",
    "Every block has a unique hash value. In BLENDS, use the following API to set the hash value.\n",
    "\n",
    "```python\n",
    "def set_hash(self, hash)\n",
    "```\n",
    "\n",
    "As with transactions, you must use the `get_payload` function to get the payload of a block. Now compute the hash of the block.\n",
    "\n",
    "Below compute the hash of the block you just created above."
   ]
  },
  {
   "cell_type": "code",
   "execution_count": null,
   "metadata": {},
   "outputs": [],
   "source": [
    "payload = block.get_payload()\n",
    "print(payload)\n",
    "\n",
    "## should be implemented\n",
    "\n"
   ]
  },
  {
   "cell_type": "markdown",
   "metadata": {},
   "source": [
    "So far you have learned to create transactions and blocks and set their hash values.  Next, you will implement blockchain operations on `transactions` and `blocks`."
   ]
  },
  {
   "cell_type": "markdown",
   "metadata": {},
   "source": [
    "## Section 2: DBManager\n",
    "\n",
    "BLENDS uses SQLite to store and index transactions and blocks.\n",
    "\n",
    "In this section, you will implement `DBManager` in BLENDS.\n",
    "\n",
    "You have not implemented mining functions, and thus BLENDS offers a preloaded database for you to work with.\n"
   ]
  },
  {
   "cell_type": "code",
   "execution_count": null,
   "metadata": {},
   "outputs": [],
   "source": [
    "# Initiazation code for DBManager\n",
    "from blends.node.blockchain.dbmanager import DBManager\n",
    "dbmanager = DBManager(\"sqlite:///scenario.db\")"
   ]
  },
  {
   "cell_type": "markdown",
   "metadata": {},
   "source": [
    "### Problem 1 : `DBManager.search_block`\n",
    "\n",
    "Implement `def search_block(self, block_hash: str)` function in [dbmanager.py](/edit/blends/node/blockchain/dbmanager.py)\n",
    "\n",
    "* Given a hash value, search the block with the hash value.\n",
    "* If the search returns successful, return the `Block` object; otherwise, return `None`.\n",
    "* Using `session.query(Block).all()`, iterate through the entire block chain.\n",
    "* If you are familiar with DB and ORM, feel free to use ORM."
   ]
  },
  {
   "cell_type": "code",
   "execution_count": null,
   "metadata": {},
   "outputs": [],
   "source": [
    "# Test  \n",
    "session = dbmanager.get_session()\n",
    "block_set = session.query(Block).all()\n",
    "for block in block_set:\n",
    "    header = block.get_header()\n",
    "    if(block == dbmanager.search_block(header[\"hash\"])):\n",
    "        print(\"PASS\")\n",
    "    else:\n",
    "        print(\"FAIL\")"
   ]
  },
  {
   "cell_type": "markdown",
   "metadata": {},
   "source": [
    "### Problem 2: `DBManager.get_height`\n",
    "\n",
    "Implement `def get_height(self, block_hash: str)` function in [dbmanager.py](/edit/blends/node/blockchain/dbmanager.py)\n",
    "\n",
    "* Now let's compute the height of the block. BLENDS does not use the Merkle tree, thus the height equals the length in the blockchain.\n",
    "* If successful, the function returns `height : int`; otherwise, `None`.\n",
    "* The genesis block with no parent has `height` of 0.\n",
    "* Iterate through the blocks using `session.query(Block).all()`.\n",
    "* Feel free to use ORM.\n"
   ]
  },
  {
   "cell_type": "code",
   "execution_count": null,
   "metadata": {},
   "outputs": [],
   "source": [
    "# Test  \n",
    "session = dbmanager.get_session()\n",
    "block_set = session.query(Block).all()\n",
    "height_set = [0, 1, 2, 3, 4]\n",
    "for i in range(5):\n",
    "    header = block_set[i].get_header()\n",
    "    if(height_set[i] == dbmanager.get_height(header[\"hash\"])):\n",
    "        print(\"PASS\")\n",
    "    else:\n",
    "        print(\"FAIL\")"
   ]
  },
  {
   "cell_type": "markdown",
   "metadata": {},
   "source": [
    "### Problem 3 : `DBManager.get_current`\n",
    "\n",
    "Implement `def get_current(self)` function in [dbmanager.py](/edit/blends/node/blockchain/dbmanager.py)\n",
    "\n",
    "* Now let's fetch the highest block in the database.\n",
    "* If there are more than one block with the same height, either will do.\n",
    "* You may use functions implemented above.\n",
    "* You can iterate through the chain using `session.query(Block).all()`.\n",
    "* Again, feel free to use ORM.\n"
   ]
  },
  {
   "cell_type": "code",
   "execution_count": null,
   "metadata": {},
   "outputs": [],
   "source": [
    "# Test  \n",
    "session = dbmanager.get_session()\n",
    "block_set = session.query(Block).all()\n",
    "if(block_set[4] == dbmanager.get_current()):\n",
    "    print(\"PASS\")\n",
    "else:\n",
    "    print(\"FAIL\")"
   ]
  },
  {
   "cell_type": "markdown",
   "metadata": {},
   "source": [
    "### Problem 4 : `DBManager.get_longest`\n",
    "\n",
    "Implement `def get_longest(self)` function in [dbmanager.py](/edit/blends/node/blockchain/dbmanager.py)\n",
    "\n",
    "* Now let's fetch the longest chain in the database.  Just get the longest chain.\n",
    "* If there are more than one longest chain with the same length, either will do.\n",
    "* You may use functions implemented above.\n",
    "* You can iterate through the chain using `session.query(Block).all()`.\n",
    "* Again, feel free to use ORM."
   ]
  },
  {
   "cell_type": "code",
   "execution_count": null,
   "metadata": {},
   "outputs": [],
   "source": [
    "# Test  \n",
    "session = dbmanager.get_session()\n",
    "block_set = session.query(Block).all()\n",
    "longest_chain = dbmanager.get_longest()\n",
    "if block_set == longest_chain:\n",
    "    print(\"PASS\")\n",
    "else:\n",
    "    print(\"FAIL\")"
   ]
  },
  {
   "cell_type": "markdown",
   "metadata": {},
   "source": [
    "### Problem 5 : `DBManager.search_transaction`\n",
    "\n",
    "Implement `def search_transaction(self, tx_hash: str)` function in [dbmanager.py](/edit/blends/node/blockchain/dbmanager.py)\n",
    "\n",
    "* Search the transaction by the hash value.\n",
    "* Iterate throug the transactions using `session.query(Transaction).all()`.\n",
    "* Again, feel free to use ORM."
   ]
  },
  {
   "cell_type": "code",
   "execution_count": null,
   "metadata": {},
   "outputs": [],
   "source": [
    "# Test  \n",
    "session = dbmanager.get_session()\n",
    "tx_set = session.query(Transaction).all()\n",
    "for tx in tx_set:\n",
    "    header = tx.get_header()\n",
    "    if(tx == dbmanager.search_transaction(header[\"hash\"])):\n",
    "        print(\"PASS\")\n",
    "    else:\n",
    "        print(\"FAIL\")"
   ]
  },
  {
   "cell_type": "markdown",
   "metadata": {},
   "source": [
    "### Problem 6 : `DBManager.get_block_balance`\n",
    "\n",
    "* Now let's compute the balance of a block.\n",
    "* The API must return `Dictionary` of `{ \"key\" : value }`.\n",
    "* Iterate through the blocks using `session.query(Block).all()`.\n",
    "* You should add `REWARD` to miner's account.\n",
    "* Again, feel free to use ORM.\n",
    "\n",
    "Implement `def get_block_balance(self, block_hash: str)` function in [verifier.py](/edit/blends/node/blockchain/dbmanager.py)"
   ]
  },
  {
   "cell_type": "code",
   "execution_count": null,
   "metadata": {},
   "outputs": [],
   "source": [
    "# Test  \n",
    "session = dbmanager.get_session()\n",
    "block_set = session.query(Block).all()\n",
    "miner_set = []\n",
    "for block in block_set:\n",
    "    if block.miner not in miner_set:\n",
    "        miner_set.append(block.miner)\n",
    "value_set = [54, 20, 26]\n",
    "\n",
    "block = block_set[4]\n",
    "header = block.get_header()\n",
    "balance_dict = dbmanager.get_block_balance(header[\"hash\"])\n",
    "for i in range(3):\n",
    "    if balance_dict[miner_set[i]] == value_set[i]:\n",
    "        print(\"PASS\")\n",
    "    else:\n",
    "        print(\"FAIL\")"
   ]
  },
  {
   "cell_type": "markdown",
   "metadata": {},
   "source": [
    "## Section 3: Verifier/Validator\n",
    "\n",
    "Here you will implement function to verify correctness of transactions and blocks.\n",
    "\n",
    "BLENDS employs two steps of `Verifier` and `Validator`.\n",
    "\n",
    "* Verifier: verifies intra-transaction and intra-block their own correctness.\n",
    "* Validator: veritifes intra-transaction and inter-block correctness.\n"
   ]
  },
  {
   "cell_type": "code",
   "execution_count": null,
   "metadata": {},
   "outputs": [],
   "source": [
    "# Initialization\n",
    "from blends.node.blockchain.verifier import Verifier\n",
    "verifier = Verifier()"
   ]
  },
  {
   "cell_type": "markdown",
   "metadata": {},
   "source": [
    "### Problem 1 : `Verifier.verify_transaction`\n",
    "\n",
    "Implement `def verify_transaction(self, transaction: Transaction)` function in [verifier.py](/edit/blends/node/blockchain/verifier.py)\n",
    "\n",
    "* This funciton checks in a transaction the following points: (1) all fields in transaction are in correct format; (2) the hash and the digital signature are correct.\n",
    "* If the transaction passes all the checks, the function returns `True`; otherwise `False`."
   ]
  },
  {
   "cell_type": "code",
   "execution_count": null,
   "metadata": {},
   "outputs": [],
   "source": [
    "# Test  \n",
    "import copy\n",
    "session = dbmanager.get_session()\n",
    "tx_set = []\n",
    "tx_set = session.query(Transaction).all()\n",
    "for tx in tx_set:\n",
    "    if(verifier.verify_transaction(tx)):\n",
    "        print(\"PASS\")\n",
    "    else:\n",
    "        print(\"FAIL\")\n",
    "\n",
    "ill_tx_set = copy.deepcopy(tx_set)\n",
    "ill_tx_set[0].hash = \"0xdeadbeef\"\n",
    "ill_tx_set[1].receiver = ill_tx_set[1].sender\n",
    "ill_tx_set[2].amount = 1000\n",
    "ill_tx_set[3].timestamp = \"2012-12-08T05:14:24\"\n",
    "for ill_tx in ill_tx_set:\n",
    "    if(verifier.verify_transaction(ill_tx)):\n",
    "        print(\"FAIL\")\n",
    "    else:\n",
    "        print(\"PASS\")"
   ]
  },
  {
   "cell_type": "markdown",
   "metadata": {},
   "source": [
    "### Problem 2: `Verifier.verify_block`\n",
    "\n",
    "Implement `def verify_block(self, block: Block)` function in [verifier.py](/edit/blends/node/blockchain/verifier.py)\n",
    "\n",
    "* This function checks in a block the following points: (1) all fields are correct; (2) the hash is correct; (3) if the nonce is within the given range of `Difficulty`. (4) all transactions in the block are correct.\n",
    "* Block hash must be smaller than target difficulty hash: 2^512/2^(20+difficulty)\n",
    "* If the block passes all the checks, the function returns `True`; otherwise `False`."
   ]
  },
  {
   "cell_type": "code",
   "execution_count": null,
   "metadata": {},
   "outputs": [],
   "source": [
    "# Test  \n",
    "session = dbmanager.get_session()\n",
    "block_set = session.query(Block).all()\n",
    "for block in block_set:\n",
    "    if(verifier.verify_block(block)):\n",
    "        print(\"PASS\")\n",
    "    else:\n",
    "        print(\"FAIL\")\n",
    "        \n",
    "ill_block_set = []\n",
    "ill_block_set.append(copy.deepcopy(block_set[0]))\n",
    "ill_block_set.append(copy.deepcopy(block_set[1]))\n",
    "ill_block_set[0].hash = \"0xdeadbeef\"\n",
    "ill_block_set[1].difficulty = 12\n",
    "for ill_block in ill_block_set:\n",
    "    if(verifier.verify_block(ill_block)):\n",
    "        print(\"FAIL\")\n",
    "    else:\n",
    "        print(\"PASS\")"
   ]
  },
  {
   "cell_type": "markdown",
   "metadata": {},
   "source": [
    "### Problem 3: `Blockchain.validate_transaction`\n",
    "\n",
    "Implement `def validate_transaction(self, tx: Transaction, block: Block) ` function in [blockchain.py](/edit/blends/node/blockchain/blockchain.py)\n",
    "\n",
    "* This function checks if the transaction can be added to a block.\n",
    "* First, it must check if the transaction has been included in another block.\n",
    "* Then, if the transction is added, the balance is correct.\n",
    "* If the transaction is correct, the function returns `True`; otherwise, `False`."
   ]
  },
  {
   "cell_type": "code",
   "execution_count": null,
   "metadata": {},
   "outputs": [],
   "source": [
    "from blends.node.blockchain.blockchain import Blockchain\n",
    "blockchain = Blockchain(\"sqlite:///scenario.db\")\n",
    "# Test  \n",
    "session = dbmanager.get_session()\n",
    "block_set = session.query(Block).all()\n",
    "tx_set = session.query(Transaction).all()\n",
    "\n",
    "# good transaction\n",
    "new_tx = Transaction.new_transaction(\"beta\", hex(sender.n), hex(receiver.n), \"2018-12-08T08:28:38\", 10)\n",
    "payload = new_tx.get_payload()\n",
    "hash_ = crypto.get_hash(payload)\n",
    "new_tx.set_hash(hash_)\n",
    "sign = \"0x51a21ca0da4ee42169b37f948f8484b801c7f49270ab3e26dae3f487122c84bab7cd3d8a35b29ca550c2a46ddb11de7762b9b26f647efe710994950a74f79ca99a1aa10ae75f712b187f9becfbf1cc622b65465c5311fe69d1b699c31fb2b615c8625af4a2b90ed48aa1690633075491f44cbd2cf9b59d423d463432d881d78945befc537a3ba7e44918d0abf13c035b66deab8b3e10838bb5e2ccc69035e1d5b0b20f12ed0d8d7d96b403d9039d75faa960bcc2b2f53e37b6d457f54327f6e4122c79265535d9c8ff93aa769d4eae0e5ece25ec246a05b852695ef7bcad5d650ae66036db90c2d4e5b53ff30ec7d44ad40abc635559bdf4b7f78c51efe4245d\"\n",
    "new_tx.set_sign(sign)\n",
    "# bad transaction\n",
    "bad_tx = Transaction.new_transaction(\"beta\", hex(sender.n), hex(receiver.n), \"2018-12-08T08:28:38\", 10000)\n",
    "payload = bad_tx.get_payload()\n",
    "hash_ = crypto.get_hash(payload)\n",
    "bad_tx.set_hash(hash_)\n",
    "sign = \"0x92803837474863f65635d49f5f168541aab0e882a6d37864c8e5c3abf61e0ecb4bc465d6a01e34f309705e626b3ce3a666416e40eddb1ce6863eefb0db1fa41fb34c1ce60fe6b9cc4f96cd4b260daa6e8681fe7b86f8c5e985c9f6691444a5e2888de21d4c69a1d22b652569a3fbc13eaa2afc10feb9c92c9eaba6767b6e4d4e6e95ca61bb3fc009166ec95e12584f287034cc51d8abc20a07c468623ab238546512b830ce46968b254c113b22eabbea5b18f08a0ffe1c27f01bd0f2404267e568c87ccff2f58c2773e59efe39dba2729a917185f1b5efdd0f1dbb9d0d40db8ef9a40b5259a646ab30ed3579baa18ea7811d7b62098f3c931095b0a399dfd196\"\n",
    "bad_tx.set_sign(sign)\n",
    "\n",
    "if blockchain.validate_transaction(new_tx, block_set[4]):\n",
    "    print(\"PASS\")\n",
    "else:\n",
    "    print(\"FAIL\")\n",
    "if blockchain.validate_transaction(bad_tx, block_set[4]):\n",
    "    print(\"FAIL\")\n",
    "else:\n",
    "    print(\"PASS\")\n",
    "if blockchain.validate_transaction(tx_set[2], block_set[4]):\n",
    "    print(\"FAIL\")\n",
    "else:\n",
    "    print(\"PASS\")"
   ]
  },
  {
   "cell_type": "markdown",
   "metadata": {},
   "source": [
    "### Problem 4: `Blockchain.validate_block`\n",
    "\n",
    "Implement `def validate_block(self, block: Block)` function in [blockchain.py](/edit/blends/node/blockchain/blockchain.py)\n",
    "\n",
    "* This function checks if the entire block is correct.\n",
    "* It checks if the parent block exists.\n",
    "* It checks if the balance of the block is all correct.\n",
    "* If the block passes all the above checks, the function returns `True`; otherwise `False`."
   ]
  },
  {
   "cell_type": "code",
   "execution_count": null,
   "metadata": {},
   "outputs": [],
   "source": [
    "from blends.node.blockchain.blockchain import Blockchain\n",
    "blockchain = Blockchain(\"sqlite:///scenario.db\")\n",
    "# Test  \n",
    "session = dbmanager.get_session()\n",
    "block_set = session.query(Block).all()\n",
    "tx_set = session.query(Transaction).all()\n",
    "\n",
    "for block in block_set:\n",
    "    if blockchain.validate_block(block):\n",
    "        print(\"PASS\")\n",
    "    else:\n",
    "        print(\"FAIL\")\n",
    "        \n",
    "block = Block.new_block(\"test\", None, util.now(), hex(sender.n), 0)\n",
    "if blockchain.validate_block(block) and not blockchain.verifier.verify_block(block):\n",
    "    print(\"FAIL\")\n",
    "else:\n",
    "    print(\"PASS\")\n",
    "     \n",
    "block = Block.new_block(\"test\", \"0x12313\", util.now(), hex(sender.n), 0)\n",
    "if blockchain.validate_block(block) and not blockchain.verifier.verify_block(block):\n",
    "    print(\"FAIL\")\n",
    "else:\n",
    "    print(\"PASS\")\n",
    "    \n",
    "\n",
    "ill_block_set = []\n",
    "ill_block_set.append(copy.deepcopy(block_set[0]))\n",
    "ill_block_set.append(copy.deepcopy(block_set[1]))\n",
    "ill_block_set[0].parent = \"0xdeadbeef\"\n",
    "ill_block_set[1].txs.append(Transaction.new_transaction(\"beta\", hex(sender.n), hex(receiver.n), \"2018-12-08T08:28:38\", 10000)) \n",
    "\n",
    "for block in ill_block_set:\n",
    "    if blockchain.validate_block(block) and not blockchain.verifier.verify_block(block):\n",
    "        print(\"FAIL\")\n",
    "    else:\n",
    "        print(\"PASS\")\n",
    "\n"
   ]
  },
  {
   "cell_type": "markdown",
   "metadata": {},
   "source": [
    "## Section 4: Mining\n",
    "\n",
    "In this section, you will implement mining. \n",
    "\n",
    "BLENDS uses basic PoW (Proof-of-Work) based consensous algorithm. \n",
    "\n",
    "### Problem 1: `mine_block`\n",
    "\n",
    "Implement`mine_block` function in [miner.py](/edit/blends/node/miner/miner.py) \n",
    "\n",
    "In the function, you have to generate a hash value which has higher difficulty than the `self.block`'s difficulty.\n",
    "\n",
    "\n",
    "* You should update `timestamp` periodically.\n",
    "* You can access `hash`, `nonce`, `timestamp`, `difficulty` by accessing `self.block.<field_name>`.\n",
    "* `difficulty` is read-only value. You should update the others.\n",
    "*  If a new block is mint, the function returns `True`\n",
    "* In this test code, you mine a block with low difficulty.\n"
   ]
  },
  {
   "cell_type": "code",
   "execution_count": null,
   "metadata": {},
   "outputs": [],
   "source": [
    "import threading\n",
    "\n",
    "from blends.node.miner import Miner\n",
    "from blends.node.model import Block, Transaction\n",
    "from blends.node.blockchain.verifier import Verifier\n",
    "from blends.node import crypto, util\n",
    "\n",
    "key = crypto.load_secret_key('key0.json')\n",
    "key1 = crypto.load_secret_key('key1.json')\n",
    "key2 = crypto.load_secret_key('key2.json')\n",
    "\n",
    "DIFFICULTY = 0\n",
    "\n",
    "block = Block.new_block(\"testing\", '0xdecaf', util.now(), hex(key.n), DIFFICULTY)\n",
    "\n",
    "tx1 =  Transaction.new_transaction(\"testing\", hex(key.n), hex(key1.n), util.now(), 1)\n",
    "tx1.set_hash(crypto.get_hash(tx1.get_payload()))\n",
    "tx1.set_sign(crypto.sign(key, tx1.hash))\n",
    "\n",
    "tx2 =  Transaction.new_transaction(\"testing\", hex(key.n), hex(key1.n), util.now(), 3)\n",
    "tx2.set_hash(crypto.get_hash(tx2.get_payload()))\n",
    "tx2.set_sign(crypto.sign(key, tx2.hash))\n",
    "\n",
    "block.txs.append(tx1)\n",
    "block.txs.append(tx2)\n",
    "\n",
    "mining = threading.Event()\n",
    "mining.set()\n",
    "\n",
    "miner = Miner(block, mining)\n",
    "print(\"Start Mining: be patient.\")\n",
    "if miner.mine_block():\n",
    "    \n",
    "    verifier = Verifier()\n",
    "    if verifier.verify_block(miner.block):\n",
    "        print(\"PASS\", miner.block)\n",
    "    else:\n",
    "        print(\"FAIL\")\n",
    "        print(miner.block)\n",
    "        print(miner.block.get_header())\n",
    "        print(miner.block.get_payload())\n",
    "\n",
    "print(\"Done\")"
   ]
  },
  {
   "cell_type": "markdown",
   "metadata": {},
   "source": [
    "### Problem 2: Mining a Real Block\n",
    "\n",
    "Finally, you have to mine a new block with same dificulty in our blockchain.\n",
    "\n",
    "* A new block will be inserted in the `scenario.db`. Database insertion requires addtional constraint checkings. If it fails, you should check formats of your model implementations.\n",
    "* Mining a block with high difficulty consumes much time (hours). You should optimize your codes for faster mining.\n"
   ]
  },
  {
   "cell_type": "code",
   "execution_count": null,
   "metadata": {},
   "outputs": [],
   "source": [
    "DIFFICULTY = 6\n",
    "\n",
    "\n",
    "parent = blockchain.get_current()\n",
    "\n",
    "block = Block.new_block(\"beta\", parent.hash, util.now(), hex(key.n), DIFFICULTY)\n",
    "\n",
    "tx1 =  Transaction.new_transaction(\"beta\", hex(key.n), hex(key1.n), util.now(), 1)\n",
    "tx1.set_hash(crypto.get_hash(tx1.get_payload()))\n",
    "tx1.set_sign(crypto.sign(key, tx1.hash))\n",
    "\n",
    "block.txs.append(tx1)\n",
    "\n",
    "blockchain = Blockchain(\"sqlite:///scenario.db\")\n",
    "\n",
    "\n",
    "miner = Miner(block, mining)\n",
    "print(\"Start Mining: be patient.\")\n",
    "if miner.mine_block():\n",
    "\n",
    "    if blockchain.append(miner.block):\n",
    "        print(\"PASS\", miner.block)\n",
    "    else:\n",
    "        print(\"FAIL\")\n",
    "\n",
    "\n",
    "else:\n",
    "    print(\"FAIL\")\n",
    "    print(miner.block)\n",
    "    print(miner.block.get_header())\n",
    "    print(miner.block.get_payload())\n",
    "\n",
    "print(\"Done\")\n"
   ]
  }
 ],
 "metadata": {
  "kernelspec": {
   "display_name": "Python 3",
   "language": "python",
   "name": "python3"
  },
  "language_info": {
   "codemirror_mode": {
    "name": "ipython",
    "version": 3
   },
   "file_extension": ".py",
   "mimetype": "text/x-python",
   "name": "python",
   "nbconvert_exporter": "python",
   "pygments_lexer": "ipython3",
   "version": "3.7.0"
  }
 },
 "nbformat": 4,
 "nbformat_minor": 2
}
