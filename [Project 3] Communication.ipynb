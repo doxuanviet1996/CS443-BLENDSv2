{
 "cells": [
  {
   "cell_type": "markdown",
   "metadata": {},
   "source": [
    "# [Lab 4 Part III] Communication\n",
    "\n",
    "In Lab 4 Part III you will augment existing code of the node to communicate with the broadcast server.\n",
    "\n",
    "There are three main functions you have to implement:\n",
    "\n",
    "1. When you fetch a new transaction from the server, validate it and include it in a later mining block. \n",
    "2. When you fetch a new block from the server, validate it and store it in the database.  If this block adds to the longest block, you should reset mining to append to this block.\n",
    "3. When you have mined a new block, send it to the server.\n",
    "4. When you create a transaction, send it to the server.\n"
   ]
  },
  {
   "cell_type": "markdown",
   "metadata": {},
   "source": [
    "* We uses the centralized server as a broadcast medium.\n",
    "* Because it is only communication medium, thera are many unverified data. You should check them precisely.\n",
    "* The communication with the broadcast server is via busy polling.\n",
    "* You should implement functions in `blends/node/node.py`.\n",
    "* You should use `run.py` at the root. It spawns all threads and starts mining."
   ]
  },
  {
   "cell_type": "markdown",
   "metadata": {},
   "source": [
    "## Block\n",
    "```json\n",
    "{\n",
    "    \"type\": \"block\",\n",
    "    \"hash\": \"<hash_string>\",\n",
    "    \"version\": \"<version_string>\",\n",
    "    \"payload\": \"<block's get_payload()>\"\n",
    "}\n",
    "```\n",
    "\n",
    "\n",
    "## Transaction\n",
    "```json\n",
    "{\n",
    "    \"type\": \"tx\",\n",
    "    \"hash\": \"<hash_string>\",\n",
    "    \"version\": \"<version_string>\",\n",
    "    \"sign\": \"<sign_string>\",\n",
    "    \"payload\": \"<transaction's get_payload()>\"\n",
    "}\n",
    "```"
   ]
  }
 ],
 "metadata": {
  "kernelspec": {
   "display_name": "Python 3",
   "language": "python",
   "name": "python3"
  },
  "language_info": {
   "codemirror_mode": {
    "name": "ipython",
    "version": 3
   },
   "file_extension": ".py",
   "mimetype": "text/x-python",
   "name": "python",
   "nbconvert_exporter": "python",
   "pygments_lexer": "ipython3",
   "version": "3.7.1"
  }
 },
 "nbformat": 4,
 "nbformat_minor": 2
}
